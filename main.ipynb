{
 "cells": [
  {
   "cell_type": "code",
   "execution_count": 1,
   "id": "db76aa19",
   "metadata": {},
   "outputs": [],
   "source": [
    "# import libraries (you may add additional imports but you may not have to)\n",
    "import numpy as np\n",
    "import pandas as pd\n",
    "from scipy.sparse import csr_matrix\n",
    "from sklearn.neighbors import NearestNeighbors\n",
    "import matplotlib.pyplot as plt"
   ]
  },
  {
   "cell_type": "code",
   "execution_count": null,
   "id": "f299455a",
   "metadata": {},
   "outputs": [],
   "source": []
  },
  {
   "cell_type": "code",
   "execution_count": 9,
   "id": "9e03c04e",
   "metadata": {},
   "outputs": [],
   "source": [
    "# get data files\n",
    "!#wget https://cdn.freecodecamp.org/project-data/books/book-crossings.zip\n",
    "\n",
    "#!unzip book-crossings.zip\n",
    "\n",
    "# get data files\n",
    "books_filename = 'BX-Books.csv'\n",
    "ratings_filename = 'BX-Book-Ratings.csv'\n",
    "users_filename = \"BX-Users.csv\""
   ]
  },
  {
   "cell_type": "code",
   "execution_count": 10,
   "id": "6281b618",
   "metadata": {},
   "outputs": [],
   "source": [
    "df_books = pd.read_csv(\n",
    "    books_filename,\n",
    "    encoding = \"ISO-8859-1\",\n",
    "    sep=\";\",\n",
    "    header=0,\n",
    "    names=['bookId', 'title', 'author'],\n",
    "    usecols=['bookId', 'title', 'author'],\n",
    "    dtype={'bookId': 'str', 'title': 'str', 'author': 'str'})\n",
    "\n",
    "df_ratings = pd.read_csv(\n",
    "    ratings_filename,\n",
    "    encoding = \"ISO-8859-1\",\n",
    "    sep=\";\",\n",
    "    header=0,\n",
    "    names=['userId', 'bookId', 'rating'],\n",
    "    usecols=['userId', 'bookId', 'rating'],\n",
    "    dtype={'userId': 'int32', 'bookId': 'str', 'rating': 'float32'})\n",
    "\n",
    "# get list of users to remove\n",
    "user_ratingCount = (df_ratings.\n",
    "     groupby(by = ['userId'])['rating'].\n",
    "     count().\n",
    "     reset_index().\n",
    "     rename(columns = {'rating': 'totalRatingCount'})\n",
    "     [['userId', 'totalRatingCount']]\n",
    ")\n",
    "users_to_remove = user_ratingCount.query('totalRatingCount > 200').userId.tolist()\n",
    "\n",
    "# merge rating and catalog by bookId\n",
    "df = pd.merge(df_ratings,df_books,on='bookId')\n",
    "\n",
    "# create totalRatingCount\n",
    "book_ratingCount = (df.\n",
    "     groupby(by = ['title'])['rating'].\n",
    "     count().\n",
    "     reset_index().\n",
    "     rename(columns = {'rating': 'totalRatingCount'})\n",
    "     [['title', 'totalRatingCount']]\n",
    "    )\n",
    "\n",
    "rating_with_totalRatingCount = df.merge(book_ratingCount, left_on = 'title', right_on = 'title', how = 'left')\n",
    "pd.set_option('display.float_format', lambda x: '%.3f' % x)\n",
    "\n",
    "# remove books with less than 100 ratings\n",
    "rating_popular_movie = rating_with_totalRatingCount.query('totalRatingCount > 100')\n",
    "\n",
    "# remove from the dataset users with less than 200 ratings \n",
    "rating_popular_movie = rating_popular_movie[rating_popular_movie['userId'].isin(users_to_remove)]\n",
    "\n",
    "# drop duplicates\n",
    "#rating_popular_movie.drop_duplicates(subset=['title'], keep=False, inplace=True)\n",
    "\n",
    "# pivot table and create matrix\n",
    "book_features_df = rating_popular_movie.pivot_table(index='title',columns='userId',values='rating').fillna(0)\n",
    "book_features_df_matrix = csr_matrix(book_features_df.values)"
   ]
  },
  {
   "cell_type": "code",
   "execution_count": 11,
   "id": "48294ad2",
   "metadata": {},
   "outputs": [],
   "source": [
    "def get_recommends(book = \"\"):\n",
    "    model_knn = NearestNeighbors(metric = 'cosine', n_neighbors=5, algorithm='auto')\n",
    "    model_knn.fit(book_features_df_matrix)\n",
    "\n",
    "    # found book TODO: user a better search\n",
    "    for query_index in range(len(book_features_df)):\n",
    "        if book_features_df.index[query_index] == book:\n",
    "            break\n",
    "\n",
    "    # creating return structure\n",
    "    ret = [book_features_df.index[query_index], []]\n",
    "    distances, indices = model_knn.kneighbors(book_features_df.iloc[query_index,:].values.reshape(1, -1))\n",
    "    # now we located the book. lets show the recomendations\n",
    "    for i in range(1, len(distances.flatten())):\n",
    "        ret[1].insert(0, [book_features_df.index[indices.flatten()[i]], distances.flatten()[i]])\n",
    "    return ret"
   ]
  },
  {
   "cell_type": "code",
   "execution_count": 12,
   "id": "ef47125c",
   "metadata": {},
   "outputs": [
    {
     "name": "stdout",
     "output_type": "stream",
     "text": [
      "[\"Where the Heart Is (Oprah's Book Club (Paperback))\", [['The Weight of Water', 0.77085835], ['I Know This Much Is True', 0.7529293], ['The Lovely Bones: A Novel', 0.7230184], ['Blue Diary', 0.71828747]]]\n",
      "You passed the challenge! 🎉🎉🎉🎉🎉\n"
     ]
    }
   ],
   "source": [
    "books = get_recommends(\"Where the Heart Is (Oprah's Book Club (Paperback))\")\n",
    "print(books)\n",
    "\n",
    "def test_book_recommendation():\n",
    "  test_pass = True\n",
    "  recommends = get_recommends(\"Where the Heart Is (Oprah's Book Club (Paperback))\")\n",
    "  if recommends[0] != \"Where the Heart Is (Oprah's Book Club (Paperback))\":\n",
    "    test_pass = False\n",
    "  recommended_books = [\"I'll Be Seeing You\", 'The Weight of Water', 'The Surgeon', 'I Know This Much Is True']\n",
    "  recommended_books_dist = [0.8, 0.77, 0.77, 0.77]\n",
    "  for i in range(2): \n",
    "    if recommends[1][i][0] not in recommended_books:\n",
    "      test_pass = False\n",
    "    if abs(recommends[1][i][1] - recommended_books_dist[i]) >= 0.05:\n",
    "      test_pass = False\n",
    "  if test_pass:\n",
    "    print(\"You passed the challenge! 🎉🎉🎉🎉🎉\")\n",
    "  else:\n",
    "    print(\"You haven't passed yet. Keep trying!\")\n",
    "\n",
    "test_book_recommendation()"
   ]
  },
  {
   "cell_type": "code",
   "execution_count": null,
   "id": "4786df1c",
   "metadata": {},
   "outputs": [],
   "source": []
  }
 ],
 "metadata": {
  "kernelspec": {
   "display_name": "Python 3 (ipykernel)",
   "language": "python",
   "name": "python3"
  },
  "language_info": {
   "codemirror_mode": {
    "name": "ipython",
    "version": 3
   },
   "file_extension": ".py",
   "mimetype": "text/x-python",
   "name": "python",
   "nbconvert_exporter": "python",
   "pygments_lexer": "ipython3",
   "version": "3.9.12"
  }
 },
 "nbformat": 4,
 "nbformat_minor": 5
}
